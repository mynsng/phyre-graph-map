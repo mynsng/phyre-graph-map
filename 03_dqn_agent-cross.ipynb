{
 "cells": [
  {
   "cell_type": "code",
   "execution_count": 1,
   "metadata": {},
   "outputs": [],
   "source": [
    "import matplotlib.pyplot as plt\n",
    "import numpy as np\n",
    "import random\n",
    "import phyre\n",
    "import torch\n",
    "import logging\n",
    "mpl_logger = logging.getLogger('matplotlib')\n",
    "mpl_logger.setLevel(logging.WARNING) "
   ]
  },
  {
   "cell_type": "code",
   "execution_count": 2,
   "metadata": {},
   "outputs": [],
   "source": [
    "tier = 'ball'\n",
    "eval_setup = 'ball_cross_template'\n",
    "fold_id = 0\n",
    "random.seed(0)"
   ]
  },
  {
   "cell_type": "markdown",
   "metadata": {},
   "source": [
    "### 1. Initialize the  Simulation Cache"
   ]
  },
  {
   "cell_type": "code",
   "execution_count": 3,
   "metadata": {},
   "outputs": [
    {
     "name": "stdout",
     "output_type": "stream",
     "text": [
      "Size of resulting splits:\n",
      " train: 1600 \n",
      " dev: 400 \n",
      " test: 500\n"
     ]
    }
   ],
   "source": [
    "train, dev, test = phyre.get_fold(eval_setup, fold_id)\n",
    "print('Size of resulting splits:\\n train:', len(train), '\\n dev:',\n",
    "      len(dev), '\\n test:', len(test))"
   ]
  },
  {
   "cell_type": "code",
   "execution_count": 4,
   "metadata": {},
   "outputs": [
    {
     "name": "stdout",
     "output_type": "stream",
     "text": [
      "cache.action_array shape: (100000, 3)\n"
     ]
    }
   ],
   "source": [
    "cache = phyre.get_default_100k_cache(tier)\n",
    "print('cache.action_array shape:', cache.action_array.shape)"
   ]
  },
  {
   "cell_type": "markdown",
   "metadata": {},
   "source": [
    "### 2. Initialize the DQN Agent"
   ]
  },
  {
   "cell_type": "code",
   "execution_count": 6,
   "metadata": {},
   "outputs": [
    {
     "name": "stderr",
     "output_type": "stream",
     "text": [
      "DEBUG:root:test\n"
     ]
    }
   ],
   "source": [
    "from dqn import DQNAgent"
   ]
  },
  {
   "cell_type": "code",
   "execution_count": 7,
   "metadata": {},
   "outputs": [],
   "source": [
    "agent = DQNAgent()"
   ]
  },
  {
   "cell_type": "markdown",
   "metadata": {},
   "source": [
    "### 3. Train the Agent"
   ]
  },
  {
   "cell_type": "code",
   "execution_count": null,
   "metadata": {},
   "outputs": [
    {
     "name": "stderr",
     "output_type": "stream",
     "text": [
      "INFO:root:Preprocess the training data\n",
      "INFO:root:Train set: size=110166381, solved_ratio=1.50%\n",
      "INFO:root:Create evaluation data from train & dev\n",
      "INFO:root:Start initializing the Model\n",
      "INFO:root:Start Training the Model\n",
      "DEBUG:root:Iter: 1000, examples: 64000, mean loss: 0.339920, speed: 2.2 batch/sec, lr: 0.000300\n",
      "DEBUG:root:Iter: 2000, examples: 128000, mean loss: 0.212274, speed: 2.2 batch/sec, lr: 0.000300\n",
      "DEBUG:root:Iter: 3000, examples: 192000, mean loss: 0.182111, speed: 2.2 batch/sec, lr: 0.000300\n",
      "DEBUG:root:Iter: 4000, examples: 256000, mean loss: 0.167481, speed: 2.2 batch/sec, lr: 0.000299\n",
      "DEBUG:root:Iter: 5000, examples: 320000, mean loss: 0.158652, speed: 2.2 batch/sec, lr: 0.000299\n",
      "DEBUG:root:Iter: 6000, examples: 384000, mean loss: 0.144091, speed: 2.2 batch/sec, lr: 0.000299\n",
      "DEBUG:root:Iter: 7000, examples: 448000, mean loss: 0.143827, speed: 2.2 batch/sec, lr: 0.000298\n",
      "DEBUG:root:Iter: 8000, examples: 512000, mean loss: 0.136467, speed: 2.2 batch/sec, lr: 0.000298\n",
      "DEBUG:root:Iter: 9000, examples: 576000, mean loss: 0.131975, speed: 2.2 batch/sec, lr: 0.000297\n",
      "DEBUG:root:Iter: 10000, examples: 640000, mean loss: 0.125752, speed: 2.2 batch/sec, lr: 0.000297\n",
      "INFO:root:Start eval\n",
      "INFO:root:__log__:{'batch_id': 10000, 'train_loss': 0.0013578716523945332, 'dev_loss': 0.03876889863014221, 'train_auccess': 0.6290182699200723, 'dev_auccess': 0.34725398509506666}\n",
      "DEBUG:root:Iter: 11000, examples: 704000, mean loss: 0.125693, speed: 0.9 batch/sec, lr: 0.000296\n",
      "DEBUG:root:Iter: 12000, examples: 768000, mean loss: 0.119358, speed: 2.2 batch/sec, lr: 0.000295\n",
      "DEBUG:root:Iter: 13000, examples: 832000, mean loss: 0.111565, speed: 2.2 batch/sec, lr: 0.000294\n",
      "DEBUG:root:Iter: 14000, examples: 896000, mean loss: 0.109281, speed: 2.2 batch/sec, lr: 0.000294\n",
      "DEBUG:root:Iter: 15000, examples: 960000, mean loss: 0.106094, speed: 2.2 batch/sec, lr: 0.000293\n",
      "DEBUG:root:Iter: 16000, examples: 1024000, mean loss: 0.104522, speed: 2.2 batch/sec, lr: 0.000292\n",
      "DEBUG:root:Iter: 17000, examples: 1088000, mean loss: 0.103017, speed: 2.2 batch/sec, lr: 0.000291\n",
      "DEBUG:root:Iter: 18000, examples: 1152000, mean loss: 0.100492, speed: 2.2 batch/sec, lr: 0.000289\n",
      "DEBUG:root:Iter: 19000, examples: 1216000, mean loss: 0.102628, speed: 2.2 batch/sec, lr: 0.000288\n",
      "DEBUG:root:Iter: 20000, examples: 1280000, mean loss: 0.096427, speed: 2.2 batch/sec, lr: 0.000287\n",
      "INFO:root:Start eval\n",
      "INFO:root:__log__:{'batch_id': 20000, 'train_loss': 0.0003228001432493329, 'dev_loss': 0.034762166094779966, 'train_auccess': 0.7117497993563607, 'dev_auccess': 0.33300548785417616}\n",
      "DEBUG:root:Iter: 21000, examples: 1344000, mean loss: 0.097179, speed: 0.9 batch/sec, lr: 0.000286\n",
      "DEBUG:root:Iter: 22000, examples: 1408000, mean loss: 0.096018, speed: 2.2 batch/sec, lr: 0.000284\n",
      "DEBUG:root:Iter: 23000, examples: 1472000, mean loss: 0.092588, speed: 2.2 batch/sec, lr: 0.000283\n",
      "DEBUG:root:Iter: 24000, examples: 1536000, mean loss: 0.094553, speed: 2.2 batch/sec, lr: 0.000281\n",
      "DEBUG:root:Iter: 25000, examples: 1600000, mean loss: 0.090836, speed: 2.2 batch/sec, lr: 0.000280\n",
      "DEBUG:root:Iter: 26000, examples: 1664000, mean loss: 0.089747, speed: 2.2 batch/sec, lr: 0.000278\n",
      "DEBUG:root:Iter: 27000, examples: 1728000, mean loss: 0.085727, speed: 2.2 batch/sec, lr: 0.000277\n",
      "DEBUG:root:Iter: 28000, examples: 1792000, mean loss: 0.088024, speed: 2.2 batch/sec, lr: 0.000275\n",
      "DEBUG:root:Iter: 29000, examples: 1856000, mean loss: 0.086961, speed: 2.2 batch/sec, lr: 0.000273\n",
      "DEBUG:root:Iter: 30000, examples: 1920000, mean loss: 0.085548, speed: 2.2 batch/sec, lr: 0.000271\n",
      "INFO:root:Start eval\n",
      "INFO:root:__log__:{'batch_id': 30000, 'train_loss': 0.000270279024168849, 'dev_loss': 0.03920245378017426, 'train_auccess': 0.7539506411920862, 'dev_auccess': 0.3337521918021457}\n",
      "DEBUG:root:Iter: 31000, examples: 1984000, mean loss: 0.087777, speed: 0.9 batch/sec, lr: 0.000269\n",
      "DEBUG:root:Iter: 32000, examples: 2048000, mean loss: 0.081477, speed: 2.2 batch/sec, lr: 0.000268\n",
      "DEBUG:root:Iter: 33000, examples: 2112000, mean loss: 0.081067, speed: 2.2 batch/sec, lr: 0.000266\n",
      "DEBUG:root:Iter: 34000, examples: 2176000, mean loss: 0.082158, speed: 2.2 batch/sec, lr: 0.000264\n",
      "DEBUG:root:Iter: 35000, examples: 2240000, mean loss: 0.076996, speed: 2.2 batch/sec, lr: 0.000261\n",
      "DEBUG:root:Iter: 36000, examples: 2304000, mean loss: 0.081363, speed: 2.2 batch/sec, lr: 0.000259\n",
      "DEBUG:root:Iter: 37000, examples: 2368000, mean loss: 0.078341, speed: 2.2 batch/sec, lr: 0.000257\n",
      "DEBUG:root:Iter: 38000, examples: 2432000, mean loss: 0.077128, speed: 2.2 batch/sec, lr: 0.000255\n",
      "DEBUG:root:Iter: 39000, examples: 2496000, mean loss: 0.078010, speed: 2.2 batch/sec, lr: 0.000253\n",
      "DEBUG:root:Iter: 40000, examples: 2560000, mean loss: 0.078319, speed: 2.2 batch/sec, lr: 0.000250\n",
      "INFO:root:Start eval\n",
      "INFO:root:__log__:{'batch_id': 40000, 'train_loss': 0.0003625315189361572, 'dev_loss': 0.042951809906959536, 'train_auccess': 0.7557303806541992, 'dev_auccess': 0.31486424836296256}\n",
      "DEBUG:root:Iter: 41000, examples: 2624000, mean loss: 0.074588, speed: 0.9 batch/sec, lr: 0.000248\n",
      "DEBUG:root:Iter: 42000, examples: 2688000, mean loss: 0.075576, speed: 2.2 batch/sec, lr: 0.000246\n",
      "DEBUG:root:Iter: 43000, examples: 2752000, mean loss: 0.076879, speed: 2.2 batch/sec, lr: 0.000243\n",
      "DEBUG:root:Iter: 44000, examples: 2816000, mean loss: 0.073287, speed: 2.2 batch/sec, lr: 0.000241\n",
      "DEBUG:root:Iter: 45000, examples: 2880000, mean loss: 0.070730, speed: 2.2 batch/sec, lr: 0.000238\n",
      "DEBUG:root:Iter: 46000, examples: 2944000, mean loss: 0.071758, speed: 2.2 batch/sec, lr: 0.000236\n",
      "DEBUG:root:Iter: 47000, examples: 3008000, mean loss: 0.072589, speed: 2.2 batch/sec, lr: 0.000233\n",
      "DEBUG:root:Iter: 48000, examples: 3072000, mean loss: 0.070831, speed: 2.2 batch/sec, lr: 0.000230\n",
      "DEBUG:root:Iter: 49000, examples: 3136000, mean loss: 0.072910, speed: 2.2 batch/sec, lr: 0.000228\n",
      "DEBUG:root:Iter: 50000, examples: 3200000, mean loss: 0.068657, speed: 2.2 batch/sec, lr: 0.000225\n",
      "INFO:root:Start eval\n",
      "INFO:root:__log__:{'batch_id': 50000, 'train_loss': 0.0003585715487599373, 'dev_loss': 0.04983464217185974, 'train_auccess': 0.7813797914757877, 'dev_auccess': 0.2959465288121024}\n",
      "DEBUG:root:Iter: 51000, examples: 3264000, mean loss: 0.068525, speed: 0.9 batch/sec, lr: 0.000222\n",
      "DEBUG:root:Iter: 52000, examples: 3328000, mean loss: 0.068362, speed: 2.2 batch/sec, lr: 0.000219\n",
      "DEBUG:root:Iter: 53000, examples: 3392000, mean loss: 0.067500, speed: 2.2 batch/sec, lr: 0.000217\n",
      "DEBUG:root:Iter: 54000, examples: 3456000, mean loss: 0.071800, speed: 2.2 batch/sec, lr: 0.000214\n",
      "DEBUG:root:Iter: 55000, examples: 3520000, mean loss: 0.067854, speed: 2.2 batch/sec, lr: 0.000211\n",
      "DEBUG:root:Iter: 56000, examples: 3584000, mean loss: 0.067748, speed: 2.2 batch/sec, lr: 0.000208\n",
      "DEBUG:root:Iter: 57000, examples: 3648000, mean loss: 0.067608, speed: 2.2 batch/sec, lr: 0.000205\n",
      "DEBUG:root:Iter: 58000, examples: 3712000, mean loss: 0.068055, speed: 2.2 batch/sec, lr: 0.000202\n",
      "DEBUG:root:Iter: 59000, examples: 3776000, mean loss: 0.066288, speed: 2.2 batch/sec, lr: 0.000199\n",
      "DEBUG:root:Iter: 60000, examples: 3840000, mean loss: 0.065423, speed: 2.2 batch/sec, lr: 0.000196\n",
      "INFO:root:Start eval\n",
      "INFO:root:__log__:{'batch_id': 60000, 'train_loss': 0.00018068099478259683, 'dev_loss': 0.04696208267211914, 'train_auccess': 0.8126005643580204, 'dev_auccess': 0.3142186706644685}\n",
      "DEBUG:root:Iter: 61000, examples: 3904000, mean loss: 0.064518, speed: 0.9 batch/sec, lr: 0.000193\n",
      "DEBUG:root:Iter: 62000, examples: 3968000, mean loss: 0.063440, speed: 2.2 batch/sec, lr: 0.000190\n"
     ]
    }
   ],
   "source": [
    "state = agent.train(cache, train, tier, dev)"
   ]
  },
  {
   "cell_type": "markdown",
   "metadata": {},
   "source": [
    "### 4. Evaluate the Agent"
   ]
  },
  {
   "cell_type": "code",
   "execution_count": null,
   "metadata": {},
   "outputs": [],
   "source": [
    "evaluator = agent.eval(state, test, tier)"
   ]
  },
  {
   "cell_type": "markdown",
   "metadata": {},
   "source": [
    "#### 4.1 Percentage of solved tasks per number of attempts"
   ]
  },
  {
   "cell_type": "code",
   "execution_count": null,
   "metadata": {},
   "outputs": [],
   "source": [
    "plt.plot(np.arange(phyre.MAX_TEST_ATTEMPTS)+1, evaluator.compute_all_metrics()['independent_solved_by'][1:])\n",
    "plt.ylim(0,1)\n",
    "plt.xscale('log')\n",
    "plt.show()"
   ]
  },
  {
   "cell_type": "markdown",
   "metadata": {},
   "source": [
    "#### 4.2 AUCESS"
   ]
  },
  {
   "cell_type": "code",
   "execution_count": null,
   "metadata": {},
   "outputs": [],
   "source": [
    "print('AUCESS after 100 attempts on test set', evaluator.get_aucess())"
   ]
  },
  {
   "cell_type": "code",
   "execution_count": null,
   "metadata": {},
   "outputs": [],
   "source": []
  },
  {
   "cell_type": "code",
   "execution_count": null,
   "metadata": {},
   "outputs": [],
   "source": []
  },
  {
   "cell_type": "code",
   "execution_count": null,
   "metadata": {},
   "outputs": [],
   "source": []
  }
 ],
 "metadata": {
  "kernelspec": {
   "display_name": "Python 3",
   "language": "python",
   "name": "python3"
  },
  "language_info": {
   "codemirror_mode": {
    "name": "ipython",
    "version": 3
   },
   "file_extension": ".py",
   "mimetype": "text/x-python",
   "name": "python",
   "nbconvert_exporter": "python",
   "pygments_lexer": "ipython3",
   "version": "3.6.9"
  }
 },
 "nbformat": 4,
 "nbformat_minor": 4
}
