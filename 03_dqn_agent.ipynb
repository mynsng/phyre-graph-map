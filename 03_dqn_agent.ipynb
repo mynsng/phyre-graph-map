{
 "cells": [
  {
   "cell_type": "code",
   "execution_count": 1,
   "metadata": {},
   "outputs": [],
   "source": [
    "import matplotlib.pyplot as plt\n",
    "import numpy as np\n",
    "import random\n",
    "import phyre\n",
    "import torch\n",
    "import logging\n",
    "mpl_logger = logging.getLogger('matplotlib')\n",
    "mpl_logger.setLevel(logging.WARNING) "
   ]
  },
  {
   "cell_type": "code",
   "execution_count": 2,
   "metadata": {},
   "outputs": [],
   "source": [
    "tier = 'ball'\n",
    "eval_setup = 'ball_within_template'\n",
    "fold_id = 0\n",
    "random.seed(0)"
   ]
  },
  {
   "cell_type": "markdown",
   "metadata": {},
   "source": [
    "### 1. Initialize the  Simulation Cache"
   ]
  },
  {
   "cell_type": "code",
   "execution_count": 3,
   "metadata": {},
   "outputs": [
    {
     "name": "stdout",
     "output_type": "stream",
     "text": [
      "Size of resulting splits:\n",
      " train: 1600 \n",
      " dev: 400 \n",
      " test: 500\n"
     ]
    }
   ],
   "source": [
    "train, dev, test = phyre.get_fold(eval_setup, fold_id)\n",
    "print('Size of resulting splits:\\n train:', len(train), '\\n dev:',\n",
    "      len(dev), '\\n test:', len(test))"
   ]
  },
  {
   "cell_type": "code",
   "execution_count": 4,
   "metadata": {},
   "outputs": [
    {
     "name": "stdout",
     "output_type": "stream",
     "text": [
      "cache.action_array shape: (100000, 3)\n"
     ]
    }
   ],
   "source": [
    "cache = phyre.get_default_100k_cache(tier)\n",
    "print('cache.action_array shape:', cache.action_array.shape)"
   ]
  },
  {
   "cell_type": "markdown",
   "metadata": {},
   "source": [
    "### 2. Initialize the DQN Agent"
   ]
  },
  {
   "cell_type": "code",
   "execution_count": 5,
   "metadata": {},
   "outputs": [
    {
     "name": "stderr",
     "output_type": "stream",
     "text": [
      "DEBUG:root:test\n"
     ]
    }
   ],
   "source": [
    "from dqn import DQNAgent"
   ]
  },
  {
   "cell_type": "code",
   "execution_count": 6,
   "metadata": {},
   "outputs": [],
   "source": [
    "agent = DQNAgent()"
   ]
  },
  {
   "cell_type": "markdown",
   "metadata": {},
   "source": [
    "### Load Model"
   ]
  },
  {
   "cell_type": "code",
   "execution_count": null,
   "metadata": {},
   "outputs": [],
   "source": [
    "model = agent.build_model()\n",
    "#new_model = TestModel()\n",
    "model.load_state_dict(torch.load(\"./model/test_model.pth\"))\n",
    "state = dict(model =model, cache = cache)"
   ]
  },
  {
   "cell_type": "markdown",
   "metadata": {},
   "source": [
    "### 3. Train the Agent"
   ]
  },
  {
   "cell_type": "code",
   "execution_count": null,
   "metadata": {},
   "outputs": [
    {
     "name": "stderr",
     "output_type": "stream",
     "text": [
      "INFO:root:Preprocess the training data\n",
      "INFO:root:Train set: size=117005756, solved_ratio=1.71%\n",
      "INFO:root:Create evaluation data from train & dev\n",
      "INFO:root:Start initializing the Model\n",
      "INFO:root:Start Training the Model\n",
      "/home/mynsng/anaconda3/envs/phyre/lib/python3.6/site-packages/torch/nn/_reduction.py:43: UserWarning: size_average and reduce args will be deprecated, please use reduction='none' instead.\n",
      "  warnings.warn(warning.format(ret))\n",
      "DEBUG:root:Iter: 1000, examples: 16000, mean loss: 0.037528, speed: 2.2 batch/sec, lr: 0.000300\n",
      "DEBUG:root:Iter: 2000, examples: 32000, mean loss: 0.013059, speed: 2.2 batch/sec, lr: 0.000300\n",
      "DEBUG:root:Iter: 3000, examples: 48000, mean loss: 0.014241, speed: 2.2 batch/sec, lr: 0.000300\n",
      "DEBUG:root:Iter: 4000, examples: 64000, mean loss: 0.018098, speed: 2.2 batch/sec, lr: 0.000300\n",
      "DEBUG:root:Iter: 5000, examples: 80000, mean loss: 0.014264, speed: 2.2 batch/sec, lr: 0.000300\n",
      "DEBUG:root:Iter: 6000, examples: 96000, mean loss: 0.009875, speed: 2.2 batch/sec, lr: 0.000299\n",
      "DEBUG:root:Iter: 7000, examples: 112000, mean loss: 0.009517, speed: 2.2 batch/sec, lr: 0.000299\n",
      "DEBUG:root:Iter: 8000, examples: 128000, mean loss: 0.009211, speed: 2.2 batch/sec, lr: 0.000299\n",
      "DEBUG:root:Iter: 9000, examples: 144000, mean loss: 0.009673, speed: 2.2 batch/sec, lr: 0.000299\n",
      "DEBUG:root:Iter: 10000, examples: 160000, mean loss: 0.008241, speed: 2.3 batch/sec, lr: 0.000298\n",
      "DEBUG:root:Iter: 11000, examples: 176000, mean loss: 0.007853, speed: 2.2 batch/sec, lr: 0.000298\n",
      "DEBUG:root:Iter: 12000, examples: 192000, mean loss: 0.009407, speed: 2.2 batch/sec, lr: 0.000297\n",
      "DEBUG:root:Iter: 13000, examples: 208000, mean loss: 0.007609, speed: 2.2 batch/sec, lr: 0.000297\n",
      "DEBUG:root:Iter: 14000, examples: 224000, mean loss: 0.007991, speed: 2.2 batch/sec, lr: 0.000296\n",
      "DEBUG:root:Iter: 15000, examples: 240000, mean loss: 0.007192, speed: 2.3 batch/sec, lr: 0.000296\n",
      "DEBUG:root:Iter: 16000, examples: 256000, mean loss: 0.008254, speed: 2.3 batch/sec, lr: 0.000295\n",
      "DEBUG:root:Iter: 17000, examples: 272000, mean loss: 0.007771, speed: 2.3 batch/sec, lr: 0.000295\n",
      "DEBUG:root:Iter: 18000, examples: 288000, mean loss: 0.007070, speed: 2.2 batch/sec, lr: 0.000294\n",
      "DEBUG:root:Iter: 19000, examples: 304000, mean loss: 0.007088, speed: 2.3 batch/sec, lr: 0.000293\n",
      "DEBUG:root:Iter: 20000, examples: 320000, mean loss: 0.007121, speed: 2.3 batch/sec, lr: 0.000293\n",
      "INFO:root:Start eval\n",
      "INFO:root:__log__:{'batch_id': 20000, 'dev_loss': 0.0010868384179048007}\n",
      "DEBUG:root:Iter: 21000, examples: 336000, mean loss: 0.006770, speed: 2.2 batch/sec, lr: 0.000292\n",
      "DEBUG:root:Iter: 22000, examples: 352000, mean loss: 0.006561, speed: 2.3 batch/sec, lr: 0.000291\n",
      "DEBUG:root:Iter: 23000, examples: 368000, mean loss: 0.006469, speed: 2.2 batch/sec, lr: 0.000290\n",
      "DEBUG:root:Iter: 24000, examples: 384000, mean loss: 0.008217, speed: 2.3 batch/sec, lr: 0.000289\n",
      "DEBUG:root:Iter: 25000, examples: 400000, mean loss: 0.006459, speed: 2.3 batch/sec, lr: 0.000289\n",
      "DEBUG:root:Iter: 26000, examples: 416000, mean loss: 0.007088, speed: 2.3 batch/sec, lr: 0.000288\n",
      "DEBUG:root:Iter: 27000, examples: 432000, mean loss: 0.006177, speed: 2.3 batch/sec, lr: 0.000287\n",
      "DEBUG:root:Iter: 28000, examples: 448000, mean loss: 0.006177, speed: 2.2 batch/sec, lr: 0.000286\n",
      "DEBUG:root:Iter: 29000, examples: 464000, mean loss: 0.006219, speed: 2.2 batch/sec, lr: 0.000285\n",
      "DEBUG:root:Iter: 30000, examples: 480000, mean loss: 0.006081, speed: 2.2 batch/sec, lr: 0.000284\n",
      "DEBUG:root:Iter: 31000, examples: 496000, mean loss: 0.005963, speed: 2.2 batch/sec, lr: 0.000283\n",
      "DEBUG:root:Iter: 32000, examples: 512000, mean loss: 0.006109, speed: 2.2 batch/sec, lr: 0.000281\n",
      "DEBUG:root:Iter: 33000, examples: 528000, mean loss: 0.006117, speed: 2.2 batch/sec, lr: 0.000280\n",
      "DEBUG:root:Iter: 34000, examples: 544000, mean loss: 0.006788, speed: 2.3 batch/sec, lr: 0.000279\n",
      "DEBUG:root:Iter: 35000, examples: 560000, mean loss: 0.006343, speed: 2.2 batch/sec, lr: 0.000278\n",
      "DEBUG:root:Iter: 36000, examples: 576000, mean loss: 0.005903, speed: 2.2 batch/sec, lr: 0.000277\n",
      "DEBUG:root:Iter: 37000, examples: 592000, mean loss: 0.006275, speed: 2.2 batch/sec, lr: 0.000275\n",
      "DEBUG:root:Iter: 38000, examples: 608000, mean loss: 0.005925, speed: 2.2 batch/sec, lr: 0.000274\n",
      "DEBUG:root:Iter: 39000, examples: 624000, mean loss: 0.005672, speed: 2.2 batch/sec, lr: 0.000273\n",
      "DEBUG:root:Iter: 40000, examples: 640000, mean loss: 0.006287, speed: 2.2 batch/sec, lr: 0.000271\n",
      "INFO:root:Start eval\n",
      "INFO:root:__log__:{'batch_id': 40000, 'dev_loss': 0.0031986753892851993}\n",
      "DEBUG:root:Iter: 41000, examples: 656000, mean loss: 0.005863, speed: 2.2 batch/sec, lr: 0.000270\n",
      "DEBUG:root:Iter: 42000, examples: 672000, mean loss: 0.005798, speed: 2.2 batch/sec, lr: 0.000269\n",
      "DEBUG:root:Iter: 43000, examples: 688000, mean loss: 0.006186, speed: 2.2 batch/sec, lr: 0.000267\n",
      "DEBUG:root:Iter: 44000, examples: 704000, mean loss: 0.005537, speed: 2.2 batch/sec, lr: 0.000266\n",
      "DEBUG:root:Iter: 45000, examples: 720000, mean loss: 0.005972, speed: 2.2 batch/sec, lr: 0.000264\n",
      "DEBUG:root:Iter: 46000, examples: 736000, mean loss: 0.006078, speed: 2.2 batch/sec, lr: 0.000263\n",
      "DEBUG:root:Iter: 47000, examples: 752000, mean loss: 0.005661, speed: 2.2 batch/sec, lr: 0.000261\n",
      "DEBUG:root:Iter: 48000, examples: 768000, mean loss: 0.005705, speed: 2.2 batch/sec, lr: 0.000259\n",
      "DEBUG:root:Iter: 49000, examples: 784000, mean loss: 0.005582, speed: 2.2 batch/sec, lr: 0.000258\n",
      "DEBUG:root:Iter: 50000, examples: 800000, mean loss: 0.005223, speed: 2.2 batch/sec, lr: 0.000256\n",
      "DEBUG:root:Iter: 51000, examples: 816000, mean loss: 0.006030, speed: 2.2 batch/sec, lr: 0.000254\n",
      "DEBUG:root:Iter: 52000, examples: 832000, mean loss: 0.005978, speed: 2.2 batch/sec, lr: 0.000253\n",
      "DEBUG:root:Iter: 53000, examples: 848000, mean loss: 0.005390, speed: 2.2 batch/sec, lr: 0.000251\n",
      "DEBUG:root:Iter: 54000, examples: 864000, mean loss: 0.005291, speed: 2.2 batch/sec, lr: 0.000249\n",
      "DEBUG:root:Iter: 55000, examples: 880000, mean loss: 0.005294, speed: 2.2 batch/sec, lr: 0.000247\n",
      "DEBUG:root:Iter: 56000, examples: 896000, mean loss: 0.005720, speed: 2.2 batch/sec, lr: 0.000246\n",
      "DEBUG:root:Iter: 57000, examples: 912000, mean loss: 0.005312, speed: 2.2 batch/sec, lr: 0.000244\n",
      "DEBUG:root:Iter: 58000, examples: 928000, mean loss: 0.005194, speed: 2.2 batch/sec, lr: 0.000242\n",
      "DEBUG:root:Iter: 59000, examples: 944000, mean loss: 0.005091, speed: 2.2 batch/sec, lr: 0.000240\n",
      "DEBUG:root:Iter: 60000, examples: 960000, mean loss: 0.005153, speed: 2.2 batch/sec, lr: 0.000238\n",
      "INFO:root:Start eval\n",
      "INFO:root:__log__:{'batch_id': 60000, 'dev_loss': 0.001119542945161811}\n",
      "DEBUG:root:Iter: 61000, examples: 976000, mean loss: 0.006996, speed: 2.2 batch/sec, lr: 0.000236\n",
      "DEBUG:root:Iter: 62000, examples: 992000, mean loss: 0.006544, speed: 2.2 batch/sec, lr: 0.000234\n",
      "DEBUG:root:Iter: 63000, examples: 1008000, mean loss: 0.005548, speed: 2.2 batch/sec, lr: 0.000232\n",
      "DEBUG:root:Iter: 64000, examples: 1024000, mean loss: 0.005348, speed: 2.2 batch/sec, lr: 0.000230\n",
      "DEBUG:root:Iter: 65000, examples: 1040000, mean loss: 0.005159, speed: 2.2 batch/sec, lr: 0.000228\n",
      "DEBUG:root:Iter: 66000, examples: 1056000, mean loss: 0.006674, speed: 2.2 batch/sec, lr: 0.000226\n",
      "DEBUG:root:Iter: 67000, examples: 1072000, mean loss: 0.005947, speed: 2.2 batch/sec, lr: 0.000224\n",
      "DEBUG:root:Iter: 68000, examples: 1088000, mean loss: 0.005874, speed: 2.2 batch/sec, lr: 0.000222\n",
      "DEBUG:root:Iter: 69000, examples: 1104000, mean loss: 0.005272, speed: 2.2 batch/sec, lr: 0.000220\n",
      "DEBUG:root:Iter: 70000, examples: 1120000, mean loss: 0.004961, speed: 2.2 batch/sec, lr: 0.000218\n",
      "DEBUG:root:Iter: 71000, examples: 1136000, mean loss: 0.005069, speed: 2.2 batch/sec, lr: 0.000216\n",
      "DEBUG:root:Iter: 72000, examples: 1152000, mean loss: 0.004891, speed: 2.2 batch/sec, lr: 0.000214\n",
      "DEBUG:root:Iter: 73000, examples: 1168000, mean loss: 0.004964, speed: 2.2 batch/sec, lr: 0.000212\n",
      "DEBUG:root:Iter: 74000, examples: 1184000, mean loss: 0.005147, speed: 2.2 batch/sec, lr: 0.000210\n",
      "DEBUG:root:Iter: 75000, examples: 1200000, mean loss: 0.004803, speed: 2.2 batch/sec, lr: 0.000207\n",
      "DEBUG:root:Iter: 76000, examples: 1216000, mean loss: 0.004814, speed: 2.2 batch/sec, lr: 0.000205\n",
      "DEBUG:root:Iter: 77000, examples: 1232000, mean loss: 0.005114, speed: 2.2 batch/sec, lr: 0.000203\n",
      "DEBUG:root:Iter: 78000, examples: 1248000, mean loss: 0.004904, speed: 2.2 batch/sec, lr: 0.000201\n",
      "DEBUG:root:Iter: 79000, examples: 1264000, mean loss: 0.004760, speed: 2.2 batch/sec, lr: 0.000199\n",
      "DEBUG:root:Iter: 80000, examples: 1280000, mean loss: 0.004988, speed: 2.2 batch/sec, lr: 0.000196\n",
      "INFO:root:Start eval\n",
      "INFO:root:__log__:{'batch_id': 80000, 'dev_loss': 0.0009304897594120121}\n",
      "DEBUG:root:Iter: 81000, examples: 1296000, mean loss: 0.004679, speed: 2.2 batch/sec, lr: 0.000194\n",
      "DEBUG:root:Iter: 82000, examples: 1312000, mean loss: 0.004714, speed: 2.2 batch/sec, lr: 0.000192\n",
      "DEBUG:root:Iter: 83000, examples: 1328000, mean loss: 0.004724, speed: 2.2 batch/sec, lr: 0.000190\n",
      "DEBUG:root:Iter: 84000, examples: 1344000, mean loss: 0.004867, speed: 2.2 batch/sec, lr: 0.000187\n",
      "DEBUG:root:Iter: 85000, examples: 1360000, mean loss: 0.005034, speed: 2.2 batch/sec, lr: 0.000185\n",
      "DEBUG:root:Iter: 86000, examples: 1376000, mean loss: 0.004856, speed: 2.2 batch/sec, lr: 0.000183\n",
      "DEBUG:root:Iter: 87000, examples: 1392000, mean loss: 0.004796, speed: 2.2 batch/sec, lr: 0.000180\n",
      "DEBUG:root:Iter: 88000, examples: 1408000, mean loss: 0.004449, speed: 2.2 batch/sec, lr: 0.000178\n",
      "DEBUG:root:Iter: 89000, examples: 1424000, mean loss: 0.004852, speed: 2.2 batch/sec, lr: 0.000176\n",
      "DEBUG:root:Iter: 90000, examples: 1440000, mean loss: 0.004681, speed: 2.2 batch/sec, lr: 0.000173\n",
      "DEBUG:root:Iter: 91000, examples: 1456000, mean loss: 0.004586, speed: 2.2 batch/sec, lr: 0.000171\n",
      "DEBUG:root:Iter: 92000, examples: 1472000, mean loss: 0.004559, speed: 2.2 batch/sec, lr: 0.000169\n",
      "DEBUG:root:Iter: 93000, examples: 1488000, mean loss: 0.004862, speed: 2.2 batch/sec, lr: 0.000166\n",
      "DEBUG:root:Iter: 94000, examples: 1504000, mean loss: 0.004691, speed: 2.2 batch/sec, lr: 0.000164\n",
      "DEBUG:root:Iter: 95000, examples: 1520000, mean loss: 0.004481, speed: 2.2 batch/sec, lr: 0.000162\n",
      "DEBUG:root:Iter: 96000, examples: 1536000, mean loss: 0.004542, speed: 2.2 batch/sec, lr: 0.000159\n",
      "DEBUG:root:Iter: 97000, examples: 1552000, mean loss: 0.004456, speed: 2.2 batch/sec, lr: 0.000157\n",
      "DEBUG:root:Iter: 98000, examples: 1568000, mean loss: 0.004862, speed: 2.2 batch/sec, lr: 0.000155\n",
      "DEBUG:root:Iter: 99000, examples: 1584000, mean loss: 0.004984, speed: 2.2 batch/sec, lr: 0.000152\n",
      "DEBUG:root:Iter: 100000, examples: 1600000, mean loss: 0.004759, speed: 2.2 batch/sec, lr: 0.000150\n",
      "INFO:root:Start eval\n",
      "INFO:root:__log__:{'batch_id': 100000, 'dev_loss': 0.0017408537023584358}\n",
      "DEBUG:root:Iter: 101000, examples: 1616000, mean loss: 0.004429, speed: 2.2 batch/sec, lr: 0.000148\n",
      "DEBUG:root:Iter: 102000, examples: 1632000, mean loss: 0.004395, speed: 2.3 batch/sec, lr: 0.000145\n",
      "DEBUG:root:Iter: 103000, examples: 1648000, mean loss: 0.004447, speed: 2.3 batch/sec, lr: 0.000143\n",
      "DEBUG:root:Iter: 104000, examples: 1664000, mean loss: 0.004308, speed: 2.2 batch/sec, lr: 0.000141\n",
      "DEBUG:root:Iter: 105000, examples: 1680000, mean loss: 0.004294, speed: 2.3 batch/sec, lr: 0.000138\n",
      "DEBUG:root:Iter: 106000, examples: 1696000, mean loss: 0.004232, speed: 2.2 batch/sec, lr: 0.000136\n",
      "DEBUG:root:Iter: 107000, examples: 1712000, mean loss: 0.004353, speed: 2.2 batch/sec, lr: 0.000134\n",
      "DEBUG:root:Iter: 108000, examples: 1728000, mean loss: 0.004249, speed: 2.2 batch/sec, lr: 0.000131\n",
      "DEBUG:root:Iter: 109000, examples: 1744000, mean loss: 0.004108, speed: 2.3 batch/sec, lr: 0.000129\n",
      "DEBUG:root:Iter: 110000, examples: 1760000, mean loss: 0.004196, speed: 2.3 batch/sec, lr: 0.000127\n",
      "DEBUG:root:Iter: 111000, examples: 1776000, mean loss: 0.004358, speed: 2.2 batch/sec, lr: 0.000124\n",
      "DEBUG:root:Iter: 112000, examples: 1792000, mean loss: 0.004092, speed: 2.2 batch/sec, lr: 0.000122\n",
      "DEBUG:root:Iter: 113000, examples: 1808000, mean loss: 0.004100, speed: 2.2 batch/sec, lr: 0.000120\n"
     ]
    }
   ],
   "source": [
    "state, statistic = agent.train(cache, train, tier, test)"
   ]
  },
  {
   "cell_type": "code",
   "execution_count": 8,
   "metadata": {},
   "outputs": [
    {
     "name": "stdout",
     "output_type": "stream",
     "text": [
      "[0.18164226412773132, 0.17554238438606262, 0.16778849065303802, 0.14578059315681458, 0.1743445098400116, 0.1647162139415741, 0.16376365721225739, 0.15559786558151245, 0.14686551690101624, 0.17140579223632812]\n",
      "[0.07855117321014404, 0.08437171578407288, 0.08681027591228485, 0.0784032791852951, 0.10258635878562927, 0.08723126351833344, 0.07501397281885147, 0.06804411858320236, 0.07492437213659286, 0.08613467216491699]\n",
      "[0.12223625928163528, 0.12018115818500519, 0.12415406852960587, 0.11508794128894806, 0.12330261617898941, 0.1206134557723999, 0.11263728886842728, 0.10721632838249207, 0.1118106096982956, 0.11304730921983719]\n",
      "[tensor(228), tensor(211), tensor(252), tensor(316), tensor(1501), tensor(200), tensor(243), tensor(350), tensor(13), tensor(249)]\n",
      "[tensor(1252), tensor(442), tensor(463), tensor(508), tensor(147), tensor(156), tensor(274), tensor(529), tensor(529), tensor(412)]\n",
      "[tensor([0.6589, 0.7709, 0.8309], device='cuda:0'), tensor([0.0719, 0.3838, 0.4581], device='cuda:0'), tensor([0.8468, 0.8853, 0.7713], device='cuda:0'), tensor([0.4746, 0.4549, 0.8836], device='cuda:0'), tensor([0.2437, 0.8152, 0.1063], device='cuda:0'), tensor([0.5722, 0.6986, 0.2056], device='cuda:0'), tensor([0.4206, 0.3438, 0.9723], device='cuda:0'), tensor([0.2424, 0.4045, 0.6687], device='cuda:0'), tensor([0.8047, 0.3328, 0.7195], device='cuda:0'), tensor([0.4298, 0.4831, 0.4919], device='cuda:0')]\n",
      "[tensor([0.1681, 0.6684, 0.9129], device='cuda:0'), tensor([0.0526, 0.7108, 0.2026], device='cuda:0'), tensor([0.1221, 0.1100, 0.4703], device='cuda:0'), tensor([0.5782, 0.3576, 0.5897], device='cuda:0'), tensor([0.1563, 0.1900, 0.6267], device='cuda:0'), tensor([0.0202, 0.1052, 0.1038], device='cuda:0'), tensor([0.3720, 0.6906, 0.8974], device='cuda:0'), tensor([0.0499, 0.5603, 0.2288], device='cuda:0'), tensor([0.5196, 0.1214, 0.4343], device='cuda:0'), tensor([0.6613, 0.9113, 0.4038], device='cuda:0')]\n",
      "[0.0010304675670340657, 0.0006416866090148687, 0.0007124827825464308, 0.0004887616378255188, 0.00044551826431415975, 0.0005048911552876234, 0.0006673851748928428, 0.0004567630821838975, 0.0005354192107915878, 0.0006722883554175496]\n",
      "211 [0.07194024 0.38377666 0.45812997]\n"
     ]
    }
   ],
   "source": [
    "#num = -2:\n",
    "\n",
    "max_loss = statistic['max_loss']\n",
    "print(max_loss[-10:])\n",
    "min_loss = statistic['min_loss']\n",
    "print(min_loss[-10:])\n",
    "mean_loss = statistic['mean_loss']\n",
    "print(mean_loss[-10:])\n",
    "max_loss_index= statistic['max_loss_index']\n",
    "print(max_loss_index[-10:])\n",
    "min_loss_index= statistic['min_loss_index']\n",
    "print(min_loss_index[-10:]) \n",
    "max_loss_action = statistic['max_loss_action']\n",
    "print(max_loss_action[-10:])\n",
    "min_loss_action = statistic['min_loss_action']\n",
    "print(min_loss_action[-10:])\n",
    "loss_var = statistic['loss_var']\n",
    "print(loss_var[-10:])\n",
    "\n",
    "i=1\n",
    "a = max_loss_index[-10:][i].item()\n",
    "b = max_loss_action[-10:][i].cpu().numpy()\n",
    "\n",
    "print(a, b)"
   ]
  },
  {
   "cell_type": "markdown",
   "metadata": {},
   "source": [
    "### Visualize"
   ]
  },
  {
   "cell_type": "code",
   "execution_count": 9,
   "metadata": {},
   "outputs": [],
   "source": [
    "task_ids = [train[a]]\n",
    "action = b\n",
    "images, predict_images = agent.predict_qa(state, task_ids, tier, action)"
   ]
  },
  {
   "cell_type": "code",
   "execution_count": 10,
   "metadata": {},
   "outputs": [
    {
     "data": {
      "image/png": "[encoded data removed]",
      "text/plain": [
       "<Figure size 1080x1080 with 16 Axes>"
      ]
     },
     "metadata": {},
     "output_type": "display_data"
    },
    {
     "data": {
      "image/png": "[encoded data removed]",
      "text/plain": [
       "<Figure size 1080x1080 with 16 Axes>"
      ]
     },
     "metadata": {},
     "output_type": "display_data"
    }
   ],
   "source": [
    "# plot할 개수 설정\n",
    "fig1, axs1 = plt.subplots(4, 4, figsize=(15, 15))\n",
    "fig1.tight_layout()\n",
    "plt.subplots_adjust(hspace=0.2, wspace=0.2)\n",
    "\n",
    "fig2, axs2 = plt.subplots(4, 4, figsize=(15, 15))\n",
    "fig2.tight_layout()\n",
    "plt.subplots_adjust(hspace=0.2, wspace=0.2)\n",
    "\n",
    "# plot 해보리기~~\n",
    "for i, (ax, image) in enumerate(zip(axs1.flatten(), images)):\n",
    "    # Convert the simulation observation to images.\n",
    "    img = phyre.observations_to_float_rgb(image)\n",
    "    ax.imshow(img)\n",
    "    \n",
    "    ax.title.set_text(f'Timestep {i+1}, simulation')\n",
    "    ax.get_xaxis().set_ticks([])\n",
    "    ax.get_yaxis().set_ticks([])\n",
    "    \n",
    "for i, (ax, image) in enumerate(zip(axs2.flatten(), predict_images)):\n",
    "    # Convert the simulation observation to images.\n",
    "    img = phyre.observations_to_float_rgb(image)\n",
    "    ax.imshow(img)\n",
    "    \n",
    "    ax.title.set_text(f'Timestep {i+1}, prediction')\n",
    "    ax.get_xaxis().set_ticks([])\n",
    "    ax.get_yaxis().set_ticks([])"
   ]
  },
  {
   "cell_type": "markdown",
   "metadata": {},
   "source": [
    "### 4. Evaluate the Agent"
   ]
  },
  {
   "cell_type": "markdown",
   "metadata": {},
   "source": [
    "#### 4.1 Percentage of solved tasks per number of attempts"
   ]
  },
  {
   "cell_type": "code",
   "execution_count": 10,
   "metadata": {},
   "outputs": [
    {
     "name": "stdout",
     "output_type": "stream",
     "text": [
      "0.012804135651094839\n"
     ]
    }
   ],
   "source": [
    "loss = agent.get_test_loss(state, test, tier)\n",
    "print(loss)"
   ]
  },
  {
   "cell_type": "markdown",
   "metadata": {},
   "source": [
    "#### 4.2 AUCESS"
   ]
  },
  {
   "cell_type": "code",
   "execution_count": 11,
   "metadata": {},
   "outputs": [],
   "source": [
    "model  = state['model']\n",
    "\n",
    "# save\n",
    "savePath = \"./model/test_model_within.pth\"\n",
    "torch.save(model.state_dict(), savePath)\n",
    "\n",
    "# load\n",
    "#new_model = TestModel()\n",
    "#new_model.load_state_dict(torch.load(\"./output/test_model.pth\"))"
   ]
  },
  {
   "cell_type": "code",
   "execution_count": null,
   "metadata": {},
   "outputs": [],
   "source": []
  },
  {
   "cell_type": "code",
   "execution_count": null,
   "metadata": {},
   "outputs": [],
   "source": []
  },
  {
   "cell_type": "code",
   "execution_count": null,
   "metadata": {},
   "outputs": [],
   "source": []
  }
 ],
 "metadata": {
  "kernelspec": {
   "display_name": "Python 3",
   "language": "python",
   "name": "python3"
  },
  "language_info": {
   "codemirror_mode": {
    "name": "ipython",
    "version": 3
   },
   "file_extension": ".py",
   "mimetype": "text/x-python",
   "name": "python",
   "nbconvert_exporter": "python",
   "pygments_lexer": "ipython3",
   "version": "3.6.9"
  }
 },
 "nbformat": 4,
 "nbformat_minor": 4
}
